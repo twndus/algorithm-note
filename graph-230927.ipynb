{
 "cells": [
  {
   "cell_type": "code",
   "execution_count": 6,
   "metadata": {},
   "outputs": [],
   "source": [
    "# import sys\n",
    "\n",
    "# input = sys.stdin.readline\n",
    "# t = int(input())\n",
    "\n",
    "# for _ in range(t):\n",
    "#     m,n,k = list(map(int,input().split()))\n",
    "#     maps = [[0 for _ in range(m)] for _ in range(n)]\n",
    "#     for i in range(k):\n",
    "#         x,y = list(map(int,input().split()))\n",
    "#         maps[y][x] = 1"
   ]
  },
  {
   "cell_type": "code",
   "execution_count": null,
   "metadata": {},
   "outputs": [],
   "source": []
  }
 ],
 "metadata": {
  "kernelspec": {
   "display_name": "Python 3",
   "language": "python",
   "name": "python3"
  },
  "language_info": {
   "codemirror_mode": {
    "name": "ipython",
    "version": 3
   },
   "file_extension": ".py",
   "mimetype": "text/x-python",
   "name": "python",
   "nbconvert_exporter": "python",
   "pygments_lexer": "ipython3",
   "version": "3.9.6"
  },
  "orig_nbformat": 4
 },
 "nbformat": 4,
 "nbformat_minor": 2
}
