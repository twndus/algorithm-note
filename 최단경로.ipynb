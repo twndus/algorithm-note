{
 "cells": [
  {
   "cell_type": "code",
   "execution_count": null,
   "metadata": {},
   "outputs": [],
   "source": [
    "# 1753번\n",
    "import sys, heapq\n",
    "\n",
    "input = sys.stdin.readline\n",
    "v,e = list(map(int, input().split()))\n",
    "sv = int(input())\n",
    "graph = [[] for _ in range(v+1)]\n",
    "for _ in range(e):\n",
    "    start, end, w = list(map(int, input().split()))\n",
    "    graph[start].append((end, w))\n",
    "\n",
    "INF = 1e9\n",
    "d = [INF for _ in range(v+1)]\n",
    "d[sv] = 0\n",
    "heap = [(0, sv)]\n",
    "\n",
    "while heap:\n",
    "\n",
    "    # 노드 방문\n",
    "    w, n = heapq.heappop(heap)\n",
    "\n",
    "    # 이미 방문했으면 처리하지 않기\n",
    "    if d[n] < w: continue\n",
    "\n",
    "    for end, w2 in graph[n]:\n",
    "        cost = w+w2\n",
    "        # 인접 노드 최단 경로 갱신\n",
    "        if cost < d[end]:\n",
    "            d[end] = cost\n",
    "            heapq.heappush(heap, (cost, end))\n",
    "        \n",
    "for i in d[1:]:\n",
    "    if i == INF:\n",
    "        print('INF')\n",
    "    else:\n",
    "        print(i)"
   ]
  },
  {
   "cell_type": "code",
   "execution_count": 5,
   "metadata": {},
   "outputs": [
    {
     "name": "stdout",
     "output_type": "stream",
     "text": [
      "1\n"
     ]
    }
   ],
   "source": [
    "# 1162번 (미완)\n",
    "\n",
    "n,m,k = list(map(int, input().split()))\n",
    "graph = [[] for _ in range(n+1)]\n",
    "for _ in range(m):\n",
    "    start, end, cost = list(map(int, input().split()))\n",
    "    graph[start].append((cost, end))\n",
    "\n",
    "stack = [([], 1)]\n",
    "minsum = 1e9\n",
    "\n",
    "while stack:\n",
    "    path, node = stack.pop()\n",
    "    for cost, end in graph[node]:\n",
    "        if end == n:\n",
    "            minsum = min(minsum, sum(sorted(path+[cost], reverse=True)[k:]))\n",
    "        else:\n",
    "            stack.append((path+[cost], end))\n",
    "\n",
    "print(minsum)"
   ]
  },
  {
   "cell_type": "code",
   "execution_count": 36,
   "metadata": {},
   "outputs": [],
   "source": [
    "# 1916번\n",
    "import sys, heapq\n",
    "\n",
    "input = sys.stdin.readline # 이거 젤 중요..!\n",
    "n = int(input())\n",
    "m = int(input())\n",
    "graph = [[] for _ in range(n+1)]\n",
    "for _ in range(m):\n",
    "    node1, node2, cost = list(map(int,input().split()))\n",
    "    graph[node1].append((cost, node2))\n",
    "start, end = list(map(int,input().split()))\n",
    "\n",
    "INF = float('inf')\n",
    "d = [INF for _ in range(n+1)]\n",
    "d[start] = 0\n",
    "heap = [(0, start)]\n",
    "\n",
    "while heap:\n",
    "    cost, now = heapq.heappop(heap)\n",
    "    if d[now] < cost: continue\n",
    "    if now == end: break\n",
    "    for cost2, node in graph[now]:\n",
    "        if cost2+cost < d[node]:\n",
    "            d[node] = cost2+cost\n",
    "            heapq.heappush(heap,(cost2+cost, node))\n",
    "\n",
    "print(d[end])"
   ]
  },
  {
   "cell_type": "code",
   "execution_count": 1,
   "metadata": {},
   "outputs": [],
   "source": [
    "# 플로이드 워셜: 1238\n",
    "## 노드 개수가 1000개 정도라는데, 그러면 3중 포룹이라 1초 내에 해결을 못할 것으로 보이긴 함\n",
    "import sys, heapq\n",
    "\n",
    "input = sys.stdin.readline\n",
    "INF = 1e9\n",
    "\n",
    "n,m,x = list(map(int,input().split()))\n",
    "graph = [[] for _ in range(n+1)]\n",
    "for _ in range(m):\n",
    "    node1, node2, cost = list(map(int,input().split()))\n",
    "    graph[node1].append((cost, node2))\n",
    "\n",
    "def dijstra(start, end):\n",
    "    d = [INF for _ in range(n+1)]\n",
    "    heap = [(0,start)]\n",
    "    while heap:\n",
    "        dist,now = heapq.heappop(heap)\n",
    "        if d[now]<dist: continue\n",
    "        if now == end: break\n",
    "        for cost, node2 in graph[now]:\n",
    "            if dist+cost < d[node2]:\n",
    "                d[node2] = dist+cost\n",
    "                heapq.heappush(heap, (dist+cost, node2))\n",
    "    return d[end]\n",
    "\n",
    "total_time = [0 for _ in range(n+1)]\n",
    "maxval = 0\n",
    "\n",
    "for i in range(1, n+1):\n",
    "    if i == x: continue\n",
    "    # home to x\n",
    "    home_to_x = dijstra(x, i)\n",
    "\n",
    "    # x to home\n",
    "    x_to_home = dijstra(i,x)\n",
    "\n",
    "    if maxval < home_to_x+x_to_home:\n",
    "        maxval = home_to_x+x_to_home\n",
    "    \n",
    "print(maxval)"
   ]
  },
  {
   "cell_type": "code",
   "execution_count": 2,
   "metadata": {},
   "outputs": [],
   "source": [
    "n, k = list(map(int, input().split()))\n"
   ]
  },
  {
   "cell_type": "code",
   "execution_count": 4,
   "metadata": {},
   "outputs": [],
   "source": [
    "# def random_walk(time, position):\n",
    "#     if position == k: break\n",
    "#     random_walk(time, position*2) # 순간이동\n",
    "#     random_walk(time+1, position+1) # 앞으로\n",
    "#     random_walk(time+1, position-1) # 뒤로\n",
    "    "
   ]
  },
  {
   "cell_type": "code",
   "execution_count": 11,
   "metadata": {},
   "outputs": [
    {
     "ename": "KeyboardInterrupt",
     "evalue": "",
     "output_type": "error",
     "traceback": [
      "\u001b[0;31m---------------------------------------------------------------------------\u001b[0m",
      "\u001b[0;31mKeyboardInterrupt\u001b[0m                         Traceback (most recent call last)",
      "\u001b[1;32m/Users/leejuyeon/personal/algorithm-note/최단경로.ipynb 셀 7\u001b[0m line \u001b[0;36m6\n\u001b[1;32m      <a href='vscode-notebook-cell:/Users/leejuyeon/personal/algorithm-note/%EC%B5%9C%EB%8B%A8%EA%B2%BD%EB%A1%9C.ipynb#X63sZmlsZQ%3D%3D?line=2'>3</a>\u001b[0m \u001b[39mwhile\u001b[39;00m stack:\n\u001b[1;32m      <a href='vscode-notebook-cell:/Users/leejuyeon/personal/algorithm-note/%EC%B5%9C%EB%8B%A8%EA%B2%BD%EB%A1%9C.ipynb#X63sZmlsZQ%3D%3D?line=3'>4</a>\u001b[0m     time, position \u001b[39m=\u001b[39m stack\u001b[39m.\u001b[39mpop()\n\u001b[0;32m----> <a href='vscode-notebook-cell:/Users/leejuyeon/personal/algorithm-note/%EC%B5%9C%EB%8B%A8%EA%B2%BD%EB%A1%9C.ipynb#X63sZmlsZQ%3D%3D?line=5'>6</a>\u001b[0m     \u001b[39mif\u001b[39;00m position \u001b[39m==\u001b[39m k:\n\u001b[1;32m      <a href='vscode-notebook-cell:/Users/leejuyeon/personal/algorithm-note/%EC%B5%9C%EB%8B%A8%EA%B2%BD%EB%A1%9C.ipynb#X63sZmlsZQ%3D%3D?line=6'>7</a>\u001b[0m         \u001b[39mbreak\u001b[39;00m\n\u001b[1;32m      <a href='vscode-notebook-cell:/Users/leejuyeon/personal/algorithm-note/%EC%B5%9C%EB%8B%A8%EA%B2%BD%EB%A1%9C.ipynb#X63sZmlsZQ%3D%3D?line=8'>9</a>\u001b[0m     \u001b[39mif\u001b[39;00m time \u001b[39m>\u001b[39m k\u001b[39m-\u001b[39mn:\n",
      "\u001b[0;31mKeyboardInterrupt\u001b[0m: "
     ]
    }
   ],
   "source": [
    "stack = [(0,n)]\n",
    "\n",
    "while stack:\n",
    "    time, position = stack.pop()\n",
    "    \n",
    "    if position == k:\n",
    "        break\n",
    "\n",
    "    if time > k-n:\n",
    "        continue\n",
    "\n",
    "    stack.append((time, position*2)) # 순간이동\n",
    "    stack.append((time+1, position+1)) # 앞으로\n",
    "    stack.append((time+1, position-1)) # 뒤로"
   ]
  },
  {
   "cell_type": "code",
   "execution_count": 10,
   "metadata": {},
   "outputs": [
    {
     "data": {
      "text/plain": [
       "13"
      ]
     },
     "execution_count": 10,
     "metadata": {},
     "output_type": "execute_result"
    }
   ],
   "source": [
    "time"
   ]
  },
  {
   "cell_type": "code",
   "execution_count": null,
   "metadata": {},
   "outputs": [],
   "source": []
  }
 ],
 "metadata": {
  "kernelspec": {
   "display_name": "general",
   "language": "python",
   "name": "python3"
  },
  "language_info": {
   "codemirror_mode": {
    "name": "ipython",
    "version": 3
   },
   "file_extension": ".py",
   "mimetype": "text/x-python",
   "name": "python",
   "nbconvert_exporter": "python",
   "pygments_lexer": "ipython3",
   "version": "3.10.0"
  },
  "orig_nbformat": 4
 },
 "nbformat": 4,
 "nbformat_minor": 2
}
